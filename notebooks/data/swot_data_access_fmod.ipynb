{
 "cells": [
  {
   "metadata": {},
   "cell_type": "code",
   "outputs": [],
   "execution_count": null,
   "source": [
    "%matplotlib ipympl\n",
    "import numpy as np, xarray as xa\n",
    "from sres.base.util.config import ConfigContext, cfg\n",
    "import matplotlib.pyplot as plt\n",
    "from sres.base.source.loader.raw import SRRawDataLoader\n",
    "norm = \"tnorm\"\n",
    "\n",
    "cname = \"sres\"\n",
    "model = \"rcan-10-20-64\"\n",
    "platform = \"explore\"\n",
    "task = f\"swot-{norm}\"\n",
    "dataset = \"swot_southpacific_1200\"\n",
    "time_index  =  1425024\n",
    "varname=\"SST\"\n",
    "\n",
    "ConfigContext.set_defaults( platform=platform, task=task, dataset=dataset )\n",
    "ConfigContext.activate_global( cname, model=model )"
   ],
   "id": "ceb158907f7c9c8e"
  },
  {
   "metadata": {},
   "cell_type": "code",
   "outputs": [],
   "execution_count": null,
   "source": [
    "loader: SRRawDataLoader = SRRawDataLoader.get_loader( cfg().task )\n",
    "data: np.ndarray = loader.load_file( varname=varname, time_index=time_index )\n",
    "print(data.shape)"
   ],
   "id": "b3852e4cdb3c8675"
  },
  {
   "metadata": {},
   "cell_type": "code",
   "outputs": [],
   "execution_count": null,
   "source": [
    "plt.figure(figsize=(12,8))\n",
    "plt.imshow( data.squeeze(), cmap=\"jet\", origin=\"lower\" )\n",
    "plt.title(f'{varname}: {time_index}')"
   ],
   "id": "558ac6702fabca27"
  },
  {
   "metadata": {},
   "cell_type": "code",
   "outputs": [],
   "execution_count": null,
   "source": [
    "# fig, ax = plt.subplots(1, 1, figsize=[ 12, 8 ], layout=\"tight\")\n",
    "# data[0].plot.imshow(ax=ax, x=\"x\", y=\"y\", cmap='jet', yincrease=True, vmin=0.0, vmax=30.0)\n",
    "# plt.title(f'{varname}[{file_index}]: tiles 1-6 + 8-13')"
   ],
   "id": "1cbb942537cd09e6"
  }
 ],
 "metadata": {
  "kernelspec": {
   "display_name": "Python 3",
   "language": "python",
   "name": "python3"
  },
  "language_info": {
   "codemirror_mode": {
    "name": "ipython",
    "version": 2
   },
   "file_extension": ".py",
   "mimetype": "text/x-python",
   "name": "python",
   "nbconvert_exporter": "python",
   "pygments_lexer": "ipython2",
   "version": "2.7.6"
  }
 },
 "nbformat": 4,
 "nbformat_minor": 5
}
