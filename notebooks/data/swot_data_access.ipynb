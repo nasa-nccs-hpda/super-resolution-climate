{
 "cells": [
  {
   "metadata": {},
   "cell_type": "code",
   "outputs": [],
   "execution_count": null,
   "source": [
    "import numpy as np\n",
    "import matplotlib.pyplot as plt\n",
    "import utils \n",
    "varname = \"SST\"\n",
    "root_dir = f\"/explore/nobackup/projects/ilab/data/swot/super_resolution\"\n",
    "\n",
    "var_template: np.ndarray =np.fromfile( f'{root_dir}/meta/hFacC_k0.data','>f4')\n",
    "var_data: np.ndarray =np.fromfile( f'{root_dir}/raw/{varname}/{varname}.0001400112.shrunk','>f4')\n",
    "mask = var_template==0\n",
    "var_template[~mask] = var_data\n",
    "var_template[mask] = np.nan\n",
    "\n",
    "sss_east, sss_west = utils.mds2d(var_template)\n",
    "print( sss_east.shape, sss_west.shape )"
   ],
   "id": "ceb158907f7c9c8e"
  },
  {
   "metadata": {},
   "cell_type": "code",
   "outputs": [],
   "execution_count": null,
   "source": [
    "#show an example\n",
    "fig,ax=plt.subplots(1,2,figsize=(10,4))\n",
    "ax[0].pcolormesh(sss_east[::48,::48]) #skip every 48 points to speed up the image rendering\n",
    "ax[0].set_title('MITgcm llc tiles 1-6')\n",
    "#ax[0].invert_yaxis() \n",
    "ax[1].pcolormesh(sss_west[::48,::48]) #skip every 48 points to speed up the image rendering\n",
    "ax[1].set_title('MITgcm llc tiles 8-13')\n",
    "sss_full=np.c_[sss_east,sss_west.T[::-1,:]] #piece the two together\n",
    "\n",
    "plt.figure()\n",
    "plt.imshow(sss_full[::48,::48][::-1,:])\n",
    "plt.title('tiles 1-6 + 8-13')"
   ],
   "id": "1cbb942537cd09e6"
  }
 ],
 "metadata": {
  "kernelspec": {
   "display_name": "Python 3",
   "language": "python",
   "name": "python3"
  },
  "language_info": {
   "codemirror_mode": {
    "name": "ipython",
    "version": 2
   },
   "file_extension": ".py",
   "mimetype": "text/x-python",
   "name": "python",
   "nbconvert_exporter": "python",
   "pygments_lexer": "ipython2",
   "version": "2.7.6"
  }
 },
 "nbformat": 4,
 "nbformat_minor": 5
}
