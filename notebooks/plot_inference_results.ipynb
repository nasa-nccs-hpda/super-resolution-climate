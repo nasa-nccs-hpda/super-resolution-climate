{
 "cells": [
  {
   "cell_type": "code",
   "execution_count": null,
   "id": "eb3354fa294bfe51",
   "metadata": {
    "collapsed": true
   },
   "outputs": [],
   "source": [
    "import xarray\n",
    "%matplotlib widget\n",
    "from typing import Any, Dict, List, Tuple, Type, Optional, Union\n",
    "from sres.base.io.loader import ncFormat, TSet\n",
    "from sres.base.util.config import ConfigContext, cfg\n",
    "from sres.data.inference import load_inference_results"
   ]
  },
  {
   "metadata": {
    "jupyter": {
     "is_executing": true
    }
   },
   "cell_type": "code",
   "source": [
    "cname = \"sres\"\n",
    "model =  'rcan-10-20-64'\n",
    "ccustom: Dict[str,Any] = { 'task.xyflip': False, 'pipeline.gpu': 0 }\n",
    "varname =  \"SST\" \n",
    "regions =  [ \"_20-20e\", \"_20-60n\", \"_south_pacific\", \"_south_indian\"]\n",
    "fsize, faspect = 12, 1.0\n",
    "rid = 0\n",
    "tsize = 48\n",
    "\n",
    "ConfigContext.defaults = dict(\n",
    "\ttask = f\"{varname}-tiles-{tsize}\",\n",
    "\tdataset = f\"swot{regions[rid]}\",\n",
    "\tplatform = \"explore\"\n",
    ")\n",
    "config = ConfigContext.activate_global( cname, model=model )\n",
    "inference_data: xarray.Dataset = load_inference_results( varname )"
   ],
   "id": "e0fe5ee8cdf65d78",
   "outputs": [],
   "execution_count": null
  },
  {
   "metadata": {
    "ExecuteTime": {
     "end_time": "2024-08-25T00:18:06.457559Z",
     "start_time": "2024-08-25T00:18:06.455957Z"
    }
   },
   "cell_type": "code",
   "source": "print(f\"Loaded inference data: {list(inference_data.data_vars.keys())}\")",
   "id": "530453702fb7682",
   "outputs": [],
   "execution_count": null
  },
  {
   "metadata": {},
   "cell_type": "code",
   "outputs": [],
   "execution_count": null,
   "source": "# controller.get_result_image_view( TSet.Validation, channel=varname, fsize=fsize, aspect=faspect)",
   "id": "a2d9b37022f7162"
  },
  {
   "metadata": {},
   "cell_type": "code",
   "outputs": [],
   "execution_count": null,
   "source": "",
   "id": "c6fa75772a811cfe"
  },
  {
   "metadata": {},
   "cell_type": "markdown",
   "source": "",
   "id": "7091a875a34975e4"
  }
 ],
 "metadata": {
  "kernelspec": {
   "display_name": "Python 3",
   "language": "python",
   "name": "python3"
  },
  "language_info": {
   "codemirror_mode": {
    "name": "ipython",
    "version": 2
   },
   "file_extension": ".py",
   "mimetype": "text/x-python",
   "name": "python",
   "nbconvert_exporter": "python",
   "pygments_lexer": "ipython2",
   "version": "2.7.6"
  }
 },
 "nbformat": 4,
 "nbformat_minor": 5
}
