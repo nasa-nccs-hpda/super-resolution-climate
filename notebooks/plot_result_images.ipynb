{
 "cells": [
  {
   "cell_type": "code",
   "execution_count": null,
   "id": "eb3354fa294bfe51",
   "metadata": {
    "collapsed": true
   },
   "outputs": [],
   "source": [
    "%matplotlib widget\n",
    "from typing import Any, Dict, List, Tuple, Type, Optional, Union\n",
    "from sres.controller.workflow import WorkflowController\n",
    "from sres.base.io.loader import ncFormat\n",
    "from sres.controller.config import TSet"
   ]
  },
  {
   "metadata": {
    "jupyter": {
     "is_executing": true
    }
   },
   "cell_type": "code",
   "source": [
    "cname = \"sres\"\n",
    "model =  'rcan-10-20-64'\n",
    "ccustom: Dict[str,Any] = { 'task.xyflip': False, 'pipeline.gpu': 0 }\n",
    "varnames = [ \"SSS\", \"SST\" ]\n",
    "regions =  [ \"_20-20e\", \"_20-60n\", \"_south_pacific\", \"_south_indian\"]\n",
    "fsize, faspect = 12, 1.0\n",
    "rid = 0 \n",
    "vid = 1\n",
    "tsize = 48\n",
    "\n",
    "configuration = dict(\n",
    "\ttask = f\"{'_'.join(varnames)}-tiles-{tsize}\",\n",
    "\tdataset = f\"swot{regions[rid]}\",\n",
    "\tplatform = \"explore\"\n",
    ")\n",
    "controller = WorkflowController( cname, configuration )\n",
    "controller.initialize( cname, model, **ccustom )"
   ],
   "id": "e0fe5ee8cdf65d78",
   "outputs": [],
   "execution_count": null
  },
  {
   "metadata": {},
   "cell_type": "code",
   "outputs": [],
   "execution_count": null,
   "source": "controller.get_result_image_view( TSet.Validation, varnames[vid], fsize=fsize, aspect=faspect)",
   "id": "a2d9b37022f7162"
  },
  {
   "metadata": {},
   "cell_type": "code",
   "outputs": [],
   "execution_count": null,
   "source": "",
   "id": "c6fa75772a811cfe"
  },
  {
   "metadata": {},
   "cell_type": "markdown",
   "source": "",
   "id": "7091a875a34975e4"
  }
 ],
 "metadata": {
  "kernelspec": {
   "display_name": "Python 3",
   "language": "python",
   "name": "python3"
  },
  "language_info": {
   "codemirror_mode": {
    "name": "ipython",
    "version": 2
   },
   "file_extension": ".py",
   "mimetype": "text/x-python",
   "name": "python",
   "nbconvert_exporter": "python",
   "pygments_lexer": "ipython2",
   "version": "2.7.6"
  }
 },
 "nbformat": 4,
 "nbformat_minor": 5
}
